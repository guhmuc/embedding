{
 "cells": [
  {
   "cell_type": "code",
   "execution_count": 1,
   "id": "5c9a0c3f-7059-4b34-b559-e58ff56595a0",
   "metadata": {
    "tags": []
   },
   "outputs": [],
   "source": [
    "import os\n",
    "from scipy.spatial import distance\n",
    "import plotly.express as px\n",
    "from sklearn.cluster import KMeans\n",
    "from umap import UMAP\n",
    "from openai import OpenAI\n",
    "import pandas as pd\n",
    "from sklearn.metrics.pairwise import cosine_similarity\n",
    "import numpy as np\n",
    "from pathlib import Path, PurePath\n",
    "import tiktoken\n",
    "from IPython.display import clear_output\n",
    "import math\n",
    "from  concurrent.futures import ThreadPoolExecutor\n",
    "import warnings\n",
    "\n",
    "warnings.filterwarnings('ignore',category=pd.io.pytables.PerformanceWarning)\n"
   ]
  },
  {
   "cell_type": "code",
   "execution_count": 2,
   "id": "dbb8af7d",
   "metadata": {},
   "outputs": [
    {
     "data": {
      "text/plain": [
       "'/Users/gheiss/workspaces/jupyter/embedding'"
      ]
     },
     "execution_count": 2,
     "metadata": {},
     "output_type": "execute_result"
    }
   ],
   "source": [
    "os.listdir()\n",
    "#os.chdir(\"diesunddas\")\n",
    "os.getcwd()\n"
   ]
  },
  {
   "cell_type": "code",
   "execution_count": 3,
   "id": "19e4162c",
   "metadata": {},
   "outputs": [],
   "source": [
    "# Einfache Progress-Anzeige\n",
    "def progress(total, stop = 100):\n",
    "    i = 1\n",
    "    while True:\n",
    "        pct = i / total * 100\n",
    "#        if i % int(total / 1000) == 0:\n",
    "        d = int(total * 0.0001 * stop)\n",
    "        #if d == 0 or i % d == 0 or pct >= stop:\n",
    "        if True:\n",
    "            clear_output(wait=True)\n",
    "            print(f\"{i} / {math.ceil(total)} ({min(round(pct,1),100)}%)\")\n",
    "        \n",
    "        if pct >= stop: \n",
    "            yield True \n",
    "        else:\n",
    "            i += 1\n",
    "            yield \n",
    "            \n",
    "def chunker(seq, size):\n",
    "    for pos in range(0, len(seq), size):\n",
    "        yield seq.iloc[pos:pos + size] \n",
    "\n",
    "class Embedding:\n",
    "    \n",
    "    client = OpenAI()\n",
    "    \n",
    "    @staticmethod\n",
    "    def to_cache_path(orig_path):\n",
    "        cach_path = Path(orig_path).absolute().with_suffix(\".mbd.h5\")\n",
    "        return cach_path\n",
    "        \n",
    "    @classmethod\n",
    "    def match_embeddings(cls, input, target):\n",
    "        if len(input.df) == 0 or len(target.df) == 0:\n",
    "            return\n",
    "\n",
    "        similarities = cosine_similarity (\n",
    "            input.df.loc[:,\"__embedding\"].tolist(), \n",
    "            target.df.loc[:,\"__embedding\"].tolist())\n",
    "        maxes = similarities.argmax(axis=1)\n",
    "\n",
    "        hits = list(map(lambda i: target.df.loc[i,target.column].strip(), maxes))\n",
    "\n",
    "        res = pd.DataFrame()\n",
    "        res[\"in\"] = input.df.loc[:,input.column]\n",
    "        res[\"out\"] = hits\n",
    "        res.to_csv(\"testresult.csv\", sep=\";\", index=False)\n",
    "        return res        \n",
    "\n",
    "    def __init__(self, model = \"text-embedding-3-small\"):\n",
    "        self.model = model \n",
    "        self.encoding = tiktoken.encoding_for_model(model)\n",
    "\n",
    "    def store(self):\n",
    "        with pd.HDFStore(self.cache, 'w') as store:\n",
    "            store.put('data', self.df)\n",
    "            store.get_storer('data').attrs.metadata = {\"path\": self.path, \"column\": self.column}\n",
    "            print(f\"Stored Embedding to {self.cache}\")\n",
    "        return self\n",
    "\n",
    "    def load(self, filename, contains=\"\"):\n",
    "        print(f\"Loading Embedding from {self.to_cache_path(filename)}\") \n",
    "        with pd.HDFStore(self.to_cache_path(filename), \"r\") as store:\n",
    "            self.df = store.get(\"data\")\n",
    "            metadata = store.get_storer('data').attrs.metadata\n",
    "            self.path = metadata[\"path\"]\n",
    "            self.column = metadata[\"column\"]\n",
    "            self.df = self.df.dropna(subset=[self.column])\n",
    "            self.df = self.df[self.df[self.column].str.contains(contains)]\n",
    "        print(f\"Loaded {len(self.df)} embeddings.\")\n",
    "        return self\n",
    "\n",
    "\n",
    "    def count_tokens(self, text_to_embed):\n",
    "        tcnt = len(self.encoding.encode(text_to_embed))\n",
    "        return tcnt\n",
    "\n",
    "    def get_embeddings(self, texts_to_embed):\n",
    "        response = self.client.embeddings.create(\n",
    "            model=self.model,\n",
    "            input=texts_to_embed,\n",
    "            encoding_format=\"float\"\n",
    "        )\n",
    "        return map(lambda d: d.embedding, response.data)\n",
    "\n",
    "    def process_batch(self, batch_df, prog):\n",
    "        results = self.get_embeddings(batch_df[self.column])\n",
    "        for i in enumerate(results):\n",
    "            self.df.at[batch_df.index[i[0]], \"__embedding\"] = i[1]\n",
    "        next(prog)\n",
    "\n",
    "    def from_csv(self, path, delimiter=\";\", column=\"text\", nsamples=0, contains=\"\", dryrun=False, chunksize=0, parallel=20):\n",
    "        self.path = Path(path).absolute()\n",
    "        self.cache = self.path.with_suffix(\".mbd.h5\")\n",
    "        self.column = column\n",
    "        self.df = pd.read_csv(self.path, sep=delimiter)        \n",
    "        print(f\"Reading from {self.path}\")\n",
    "        self.process_df(nsamples=nsamples, dryrun=dryrun, chunksize=chunksize, parallel=parallel)\n",
    "        return self   \n",
    "\n",
    "    def from_xls(self, path, sheet=\"\", column=\"text\", nsamples=0, contains=\"\", dryrun=False, chunksize=0, parallel=20):\n",
    "        self.path = Path(path).absolute()\n",
    "        self.cache = self.path.with_suffix(\".mbd.h5\")\n",
    "        self.column = column        \n",
    "        with pd.ExcelFile(path) as xls:  \n",
    "            self.df = pd.read_excel(xls, sheet)  \n",
    "        print(f\"Reading from {self.path}\")\n",
    "        self.process_df(nsamples=nsamples, contains=contains, dryrun=dryrun, chunksize=chunksize, parallel=parallel)\n",
    "        return self   \n",
    "\n",
    "    def from_array(self, texts, nsamples=0, contains=\"\", dryrun=False, chunksize=0, parallel=20):\n",
    "        self.column = \"__text\"\n",
    "        self.df = pd.DataFrame()\n",
    "        self.df[self.column] = texts\n",
    "        self.process_df(nsamples=nsamples, contains=contains, dryrun=dryrun, chunksize=chunksize, parallel=parallel)\n",
    "        return self   \n",
    "\n",
    "    def process_df(self, nsamples=0, contains=\"\", dryrun=False, chunksize=0, parallel=20):\n",
    "        self.df = self.df[self.df[self.column].str.contains(contains)]\n",
    "        if nsamples > 0 : self.df = self.df.sample(nsamples)\n",
    "        self.df[\"__embedding\"] = \"\"\n",
    "        self.df[\"__tcnt\"] = self.df[self.column].astype(str).apply(self.count_tokens) \n",
    "        if not dryrun and len(self.df) > 0: \n",
    "            if chunksize == 0 : chunksize = int(8192 / self.df[\"__tcnt\"].max() * 0.7) \n",
    "            print(\"chunksize: \", chunksize)\n",
    "            prog = progress(len(self.df)/chunksize)    \n",
    "            with ThreadPoolExecutor(max_workers=parallel) as executor:\n",
    "                for batch_df in chunker(self.df, chunksize):\n",
    "                    executor.submit(self.process_batch, batch_df, prog)            \n",
    "\n",
    "        print(f\"Nuber of tokens: {self.df['__tcnt'].sum()}\")\n",
    "        print(f\"Created {len(self.df)} embeddings.\")\n",
    "\n",
    "    \n",
    "    @classmethod\n",
    "    def similarity_matrix(cls, input, target):\n",
    "        if len(input.df) == 0 or len(target.df) == 0:\n",
    "            return\n",
    "        similarities = cosine_similarity (\n",
    "            input.df.loc[:,\"__embedding\"].tolist(), \n",
    "            target.df.loc[:,\"__embedding\"].tolist())\n",
    "        df = pd.DataFrame(similarities, columns=list(target.df[target.column]), index=list(input.df[input.column]))\n",
    "        return df\n"
   ]
  },
  {
   "cell_type": "code",
   "execution_count": 4,
   "id": "2f80e4ae",
   "metadata": {
    "editable": true,
    "slideshow": {
     "slide_type": ""
    },
    "tags": []
   },
   "outputs": [
    {
     "ename": "FileNotFoundError",
     "evalue": "[Errno 2] No such file or directory: '/Users/gheiss/workspaces/jupyter/embedding/../precitooldata/zds_latest/zds_categories_with_path_06.csv'",
     "output_type": "error",
     "traceback": [
      "\u001b[0;31m---------------------------------------------------------------------------\u001b[0m",
      "\u001b[0;31mFileNotFoundError\u001b[0m                         Traceback (most recent call last)",
      "Cell \u001b[0;32mIn[4], line 1\u001b[0m\n\u001b[0;32m----> 1\u001b[0m zds_latest_06 \u001b[38;5;241m=\u001b[39m \u001b[43mEmbedding\u001b[49m\u001b[43m(\u001b[49m\u001b[43m)\u001b[49m\u001b[38;5;241;43m.\u001b[39;49m\u001b[43mfrom_csv\u001b[49m\u001b[43m(\u001b[49m\u001b[38;5;124;43m\"\u001b[39;49m\u001b[38;5;124;43m../precitooldata/zds_latest/zds_categories_with_path_06.csv\u001b[39;49m\u001b[38;5;124;43m\"\u001b[39;49m\u001b[43m,\u001b[49m\u001b[43m \u001b[49m\u001b[43mcolumn\u001b[49m\u001b[38;5;241;43m=\u001b[39;49m\u001b[38;5;124;43m'\u001b[39;49m\u001b[38;5;124;43mcategoryPathShort\u001b[39;49m\u001b[38;5;124;43m'\u001b[39;49m\u001b[43m)\u001b[49m\u001b[38;5;241m.\u001b[39mstore()\n\u001b[1;32m      2\u001b[0m broken_cats \u001b[38;5;241m=\u001b[39m Embedding()\u001b[38;5;241m.\u001b[39mfrom_xls(\u001b[38;5;124m\"\u001b[39m\u001b[38;5;124m../precitooldata/EDEfalscheKategorien.xlsx\u001b[39m\u001b[38;5;124m\"\u001b[39m, sheet\u001b[38;5;241m=\u001b[39m\u001b[38;5;124m\"\u001b[39m\u001b[38;5;124mfinalV2\u001b[39m\u001b[38;5;124m\"\u001b[39m, column\u001b[38;5;241m=\u001b[39m\u001b[38;5;124m\"\u001b[39m\u001b[38;5;124mede\u001b[39m\u001b[38;5;124m\"\u001b[39m)\u001b[38;5;241m.\u001b[39mstore()\n\u001b[1;32m      4\u001b[0m \u001b[38;5;66;03m#broken_cats = Embedding().load(\"../precitooldata/EDEfalscheKategorien.xlsx\")\u001b[39;00m\n\u001b[1;32m      5\u001b[0m \u001b[38;5;66;03m#Embedding.match_embeddings(broken_cats, zds_latest_06)\u001b[39;00m\n",
      "Cell \u001b[0;32mIn[3], line 96\u001b[0m, in \u001b[0;36mEmbedding.from_csv\u001b[0;34m(self, path, delimiter, column, nsamples, contains, dryrun, chunksize, parallel)\u001b[0m\n\u001b[1;32m     94\u001b[0m \u001b[38;5;28mself\u001b[39m\u001b[38;5;241m.\u001b[39mcache \u001b[38;5;241m=\u001b[39m \u001b[38;5;28mself\u001b[39m\u001b[38;5;241m.\u001b[39mpath\u001b[38;5;241m.\u001b[39mwith_suffix(\u001b[38;5;124m\"\u001b[39m\u001b[38;5;124m.mbd.h5\u001b[39m\u001b[38;5;124m\"\u001b[39m)\n\u001b[1;32m     95\u001b[0m \u001b[38;5;28mself\u001b[39m\u001b[38;5;241m.\u001b[39mcolumn \u001b[38;5;241m=\u001b[39m column\n\u001b[0;32m---> 96\u001b[0m \u001b[38;5;28mself\u001b[39m\u001b[38;5;241m.\u001b[39mdf \u001b[38;5;241m=\u001b[39m \u001b[43mpd\u001b[49m\u001b[38;5;241;43m.\u001b[39;49m\u001b[43mread_csv\u001b[49m\u001b[43m(\u001b[49m\u001b[38;5;28;43mself\u001b[39;49m\u001b[38;5;241;43m.\u001b[39;49m\u001b[43mpath\u001b[49m\u001b[43m,\u001b[49m\u001b[43m \u001b[49m\u001b[43msep\u001b[49m\u001b[38;5;241;43m=\u001b[39;49m\u001b[43mdelimiter\u001b[49m\u001b[43m)\u001b[49m        \n\u001b[1;32m     97\u001b[0m \u001b[38;5;28mprint\u001b[39m(\u001b[38;5;124mf\u001b[39m\u001b[38;5;124m\"\u001b[39m\u001b[38;5;124mReading from \u001b[39m\u001b[38;5;132;01m{\u001b[39;00m\u001b[38;5;28mself\u001b[39m\u001b[38;5;241m.\u001b[39mpath\u001b[38;5;132;01m}\u001b[39;00m\u001b[38;5;124m\"\u001b[39m)\n\u001b[1;32m     98\u001b[0m \u001b[38;5;28mself\u001b[39m\u001b[38;5;241m.\u001b[39mprocess_df(nsamples\u001b[38;5;241m=\u001b[39mnsamples, dryrun\u001b[38;5;241m=\u001b[39mdryrun, chunksize\u001b[38;5;241m=\u001b[39mchunksize, parallel\u001b[38;5;241m=\u001b[39mparallel)\n",
      "File \u001b[0;32m/opt/homebrew/lib/python3.11/site-packages/pandas/io/parsers/readers.py:1026\u001b[0m, in \u001b[0;36mread_csv\u001b[0;34m(filepath_or_buffer, sep, delimiter, header, names, index_col, usecols, dtype, engine, converters, true_values, false_values, skipinitialspace, skiprows, skipfooter, nrows, na_values, keep_default_na, na_filter, verbose, skip_blank_lines, parse_dates, infer_datetime_format, keep_date_col, date_parser, date_format, dayfirst, cache_dates, iterator, chunksize, compression, thousands, decimal, lineterminator, quotechar, quoting, doublequote, escapechar, comment, encoding, encoding_errors, dialect, on_bad_lines, delim_whitespace, low_memory, memory_map, float_precision, storage_options, dtype_backend)\u001b[0m\n\u001b[1;32m   1013\u001b[0m kwds_defaults \u001b[38;5;241m=\u001b[39m _refine_defaults_read(\n\u001b[1;32m   1014\u001b[0m     dialect,\n\u001b[1;32m   1015\u001b[0m     delimiter,\n\u001b[0;32m   (...)\u001b[0m\n\u001b[1;32m   1022\u001b[0m     dtype_backend\u001b[38;5;241m=\u001b[39mdtype_backend,\n\u001b[1;32m   1023\u001b[0m )\n\u001b[1;32m   1024\u001b[0m kwds\u001b[38;5;241m.\u001b[39mupdate(kwds_defaults)\n\u001b[0;32m-> 1026\u001b[0m \u001b[38;5;28;01mreturn\u001b[39;00m \u001b[43m_read\u001b[49m\u001b[43m(\u001b[49m\u001b[43mfilepath_or_buffer\u001b[49m\u001b[43m,\u001b[49m\u001b[43m \u001b[49m\u001b[43mkwds\u001b[49m\u001b[43m)\u001b[49m\n",
      "File \u001b[0;32m/opt/homebrew/lib/python3.11/site-packages/pandas/io/parsers/readers.py:620\u001b[0m, in \u001b[0;36m_read\u001b[0;34m(filepath_or_buffer, kwds)\u001b[0m\n\u001b[1;32m    617\u001b[0m _validate_names(kwds\u001b[38;5;241m.\u001b[39mget(\u001b[38;5;124m\"\u001b[39m\u001b[38;5;124mnames\u001b[39m\u001b[38;5;124m\"\u001b[39m, \u001b[38;5;28;01mNone\u001b[39;00m))\n\u001b[1;32m    619\u001b[0m \u001b[38;5;66;03m# Create the parser.\u001b[39;00m\n\u001b[0;32m--> 620\u001b[0m parser \u001b[38;5;241m=\u001b[39m \u001b[43mTextFileReader\u001b[49m\u001b[43m(\u001b[49m\u001b[43mfilepath_or_buffer\u001b[49m\u001b[43m,\u001b[49m\u001b[43m \u001b[49m\u001b[38;5;241;43m*\u001b[39;49m\u001b[38;5;241;43m*\u001b[39;49m\u001b[43mkwds\u001b[49m\u001b[43m)\u001b[49m\n\u001b[1;32m    622\u001b[0m \u001b[38;5;28;01mif\u001b[39;00m chunksize \u001b[38;5;129;01mor\u001b[39;00m iterator:\n\u001b[1;32m    623\u001b[0m     \u001b[38;5;28;01mreturn\u001b[39;00m parser\n",
      "File \u001b[0;32m/opt/homebrew/lib/python3.11/site-packages/pandas/io/parsers/readers.py:1620\u001b[0m, in \u001b[0;36mTextFileReader.__init__\u001b[0;34m(self, f, engine, **kwds)\u001b[0m\n\u001b[1;32m   1617\u001b[0m     \u001b[38;5;28mself\u001b[39m\u001b[38;5;241m.\u001b[39moptions[\u001b[38;5;124m\"\u001b[39m\u001b[38;5;124mhas_index_names\u001b[39m\u001b[38;5;124m\"\u001b[39m] \u001b[38;5;241m=\u001b[39m kwds[\u001b[38;5;124m\"\u001b[39m\u001b[38;5;124mhas_index_names\u001b[39m\u001b[38;5;124m\"\u001b[39m]\n\u001b[1;32m   1619\u001b[0m \u001b[38;5;28mself\u001b[39m\u001b[38;5;241m.\u001b[39mhandles: IOHandles \u001b[38;5;241m|\u001b[39m \u001b[38;5;28;01mNone\u001b[39;00m \u001b[38;5;241m=\u001b[39m \u001b[38;5;28;01mNone\u001b[39;00m\n\u001b[0;32m-> 1620\u001b[0m \u001b[38;5;28mself\u001b[39m\u001b[38;5;241m.\u001b[39m_engine \u001b[38;5;241m=\u001b[39m \u001b[38;5;28;43mself\u001b[39;49m\u001b[38;5;241;43m.\u001b[39;49m\u001b[43m_make_engine\u001b[49m\u001b[43m(\u001b[49m\u001b[43mf\u001b[49m\u001b[43m,\u001b[49m\u001b[43m \u001b[49m\u001b[38;5;28;43mself\u001b[39;49m\u001b[38;5;241;43m.\u001b[39;49m\u001b[43mengine\u001b[49m\u001b[43m)\u001b[49m\n",
      "File \u001b[0;32m/opt/homebrew/lib/python3.11/site-packages/pandas/io/parsers/readers.py:1880\u001b[0m, in \u001b[0;36mTextFileReader._make_engine\u001b[0;34m(self, f, engine)\u001b[0m\n\u001b[1;32m   1878\u001b[0m     \u001b[38;5;28;01mif\u001b[39;00m \u001b[38;5;124m\"\u001b[39m\u001b[38;5;124mb\u001b[39m\u001b[38;5;124m\"\u001b[39m \u001b[38;5;129;01mnot\u001b[39;00m \u001b[38;5;129;01min\u001b[39;00m mode:\n\u001b[1;32m   1879\u001b[0m         mode \u001b[38;5;241m+\u001b[39m\u001b[38;5;241m=\u001b[39m \u001b[38;5;124m\"\u001b[39m\u001b[38;5;124mb\u001b[39m\u001b[38;5;124m\"\u001b[39m\n\u001b[0;32m-> 1880\u001b[0m \u001b[38;5;28mself\u001b[39m\u001b[38;5;241m.\u001b[39mhandles \u001b[38;5;241m=\u001b[39m \u001b[43mget_handle\u001b[49m\u001b[43m(\u001b[49m\n\u001b[1;32m   1881\u001b[0m \u001b[43m    \u001b[49m\u001b[43mf\u001b[49m\u001b[43m,\u001b[49m\n\u001b[1;32m   1882\u001b[0m \u001b[43m    \u001b[49m\u001b[43mmode\u001b[49m\u001b[43m,\u001b[49m\n\u001b[1;32m   1883\u001b[0m \u001b[43m    \u001b[49m\u001b[43mencoding\u001b[49m\u001b[38;5;241;43m=\u001b[39;49m\u001b[38;5;28;43mself\u001b[39;49m\u001b[38;5;241;43m.\u001b[39;49m\u001b[43moptions\u001b[49m\u001b[38;5;241;43m.\u001b[39;49m\u001b[43mget\u001b[49m\u001b[43m(\u001b[49m\u001b[38;5;124;43m\"\u001b[39;49m\u001b[38;5;124;43mencoding\u001b[39;49m\u001b[38;5;124;43m\"\u001b[39;49m\u001b[43m,\u001b[49m\u001b[43m \u001b[49m\u001b[38;5;28;43;01mNone\u001b[39;49;00m\u001b[43m)\u001b[49m\u001b[43m,\u001b[49m\n\u001b[1;32m   1884\u001b[0m \u001b[43m    \u001b[49m\u001b[43mcompression\u001b[49m\u001b[38;5;241;43m=\u001b[39;49m\u001b[38;5;28;43mself\u001b[39;49m\u001b[38;5;241;43m.\u001b[39;49m\u001b[43moptions\u001b[49m\u001b[38;5;241;43m.\u001b[39;49m\u001b[43mget\u001b[49m\u001b[43m(\u001b[49m\u001b[38;5;124;43m\"\u001b[39;49m\u001b[38;5;124;43mcompression\u001b[39;49m\u001b[38;5;124;43m\"\u001b[39;49m\u001b[43m,\u001b[49m\u001b[43m \u001b[49m\u001b[38;5;28;43;01mNone\u001b[39;49;00m\u001b[43m)\u001b[49m\u001b[43m,\u001b[49m\n\u001b[1;32m   1885\u001b[0m \u001b[43m    \u001b[49m\u001b[43mmemory_map\u001b[49m\u001b[38;5;241;43m=\u001b[39;49m\u001b[38;5;28;43mself\u001b[39;49m\u001b[38;5;241;43m.\u001b[39;49m\u001b[43moptions\u001b[49m\u001b[38;5;241;43m.\u001b[39;49m\u001b[43mget\u001b[49m\u001b[43m(\u001b[49m\u001b[38;5;124;43m\"\u001b[39;49m\u001b[38;5;124;43mmemory_map\u001b[39;49m\u001b[38;5;124;43m\"\u001b[39;49m\u001b[43m,\u001b[49m\u001b[43m \u001b[49m\u001b[38;5;28;43;01mFalse\u001b[39;49;00m\u001b[43m)\u001b[49m\u001b[43m,\u001b[49m\n\u001b[1;32m   1886\u001b[0m \u001b[43m    \u001b[49m\u001b[43mis_text\u001b[49m\u001b[38;5;241;43m=\u001b[39;49m\u001b[43mis_text\u001b[49m\u001b[43m,\u001b[49m\n\u001b[1;32m   1887\u001b[0m \u001b[43m    \u001b[49m\u001b[43merrors\u001b[49m\u001b[38;5;241;43m=\u001b[39;49m\u001b[38;5;28;43mself\u001b[39;49m\u001b[38;5;241;43m.\u001b[39;49m\u001b[43moptions\u001b[49m\u001b[38;5;241;43m.\u001b[39;49m\u001b[43mget\u001b[49m\u001b[43m(\u001b[49m\u001b[38;5;124;43m\"\u001b[39;49m\u001b[38;5;124;43mencoding_errors\u001b[39;49m\u001b[38;5;124;43m\"\u001b[39;49m\u001b[43m,\u001b[49m\u001b[43m \u001b[49m\u001b[38;5;124;43m\"\u001b[39;49m\u001b[38;5;124;43mstrict\u001b[39;49m\u001b[38;5;124;43m\"\u001b[39;49m\u001b[43m)\u001b[49m\u001b[43m,\u001b[49m\n\u001b[1;32m   1888\u001b[0m \u001b[43m    \u001b[49m\u001b[43mstorage_options\u001b[49m\u001b[38;5;241;43m=\u001b[39;49m\u001b[38;5;28;43mself\u001b[39;49m\u001b[38;5;241;43m.\u001b[39;49m\u001b[43moptions\u001b[49m\u001b[38;5;241;43m.\u001b[39;49m\u001b[43mget\u001b[49m\u001b[43m(\u001b[49m\u001b[38;5;124;43m\"\u001b[39;49m\u001b[38;5;124;43mstorage_options\u001b[39;49m\u001b[38;5;124;43m\"\u001b[39;49m\u001b[43m,\u001b[49m\u001b[43m \u001b[49m\u001b[38;5;28;43;01mNone\u001b[39;49;00m\u001b[43m)\u001b[49m\u001b[43m,\u001b[49m\n\u001b[1;32m   1889\u001b[0m \u001b[43m\u001b[49m\u001b[43m)\u001b[49m\n\u001b[1;32m   1890\u001b[0m \u001b[38;5;28;01massert\u001b[39;00m \u001b[38;5;28mself\u001b[39m\u001b[38;5;241m.\u001b[39mhandles \u001b[38;5;129;01mis\u001b[39;00m \u001b[38;5;129;01mnot\u001b[39;00m \u001b[38;5;28;01mNone\u001b[39;00m\n\u001b[1;32m   1891\u001b[0m f \u001b[38;5;241m=\u001b[39m \u001b[38;5;28mself\u001b[39m\u001b[38;5;241m.\u001b[39mhandles\u001b[38;5;241m.\u001b[39mhandle\n",
      "File \u001b[0;32m/opt/homebrew/lib/python3.11/site-packages/pandas/io/common.py:873\u001b[0m, in \u001b[0;36mget_handle\u001b[0;34m(path_or_buf, mode, encoding, compression, memory_map, is_text, errors, storage_options)\u001b[0m\n\u001b[1;32m    868\u001b[0m \u001b[38;5;28;01melif\u001b[39;00m \u001b[38;5;28misinstance\u001b[39m(handle, \u001b[38;5;28mstr\u001b[39m):\n\u001b[1;32m    869\u001b[0m     \u001b[38;5;66;03m# Check whether the filename is to be opened in binary mode.\u001b[39;00m\n\u001b[1;32m    870\u001b[0m     \u001b[38;5;66;03m# Binary mode does not support 'encoding' and 'newline'.\u001b[39;00m\n\u001b[1;32m    871\u001b[0m     \u001b[38;5;28;01mif\u001b[39;00m ioargs\u001b[38;5;241m.\u001b[39mencoding \u001b[38;5;129;01mand\u001b[39;00m \u001b[38;5;124m\"\u001b[39m\u001b[38;5;124mb\u001b[39m\u001b[38;5;124m\"\u001b[39m \u001b[38;5;129;01mnot\u001b[39;00m \u001b[38;5;129;01min\u001b[39;00m ioargs\u001b[38;5;241m.\u001b[39mmode:\n\u001b[1;32m    872\u001b[0m         \u001b[38;5;66;03m# Encoding\u001b[39;00m\n\u001b[0;32m--> 873\u001b[0m         handle \u001b[38;5;241m=\u001b[39m \u001b[38;5;28;43mopen\u001b[39;49m\u001b[43m(\u001b[49m\n\u001b[1;32m    874\u001b[0m \u001b[43m            \u001b[49m\u001b[43mhandle\u001b[49m\u001b[43m,\u001b[49m\n\u001b[1;32m    875\u001b[0m \u001b[43m            \u001b[49m\u001b[43mioargs\u001b[49m\u001b[38;5;241;43m.\u001b[39;49m\u001b[43mmode\u001b[49m\u001b[43m,\u001b[49m\n\u001b[1;32m    876\u001b[0m \u001b[43m            \u001b[49m\u001b[43mencoding\u001b[49m\u001b[38;5;241;43m=\u001b[39;49m\u001b[43mioargs\u001b[49m\u001b[38;5;241;43m.\u001b[39;49m\u001b[43mencoding\u001b[49m\u001b[43m,\u001b[49m\n\u001b[1;32m    877\u001b[0m \u001b[43m            \u001b[49m\u001b[43merrors\u001b[49m\u001b[38;5;241;43m=\u001b[39;49m\u001b[43merrors\u001b[49m\u001b[43m,\u001b[49m\n\u001b[1;32m    878\u001b[0m \u001b[43m            \u001b[49m\u001b[43mnewline\u001b[49m\u001b[38;5;241;43m=\u001b[39;49m\u001b[38;5;124;43m\"\u001b[39;49m\u001b[38;5;124;43m\"\u001b[39;49m\u001b[43m,\u001b[49m\n\u001b[1;32m    879\u001b[0m \u001b[43m        \u001b[49m\u001b[43m)\u001b[49m\n\u001b[1;32m    880\u001b[0m     \u001b[38;5;28;01melse\u001b[39;00m:\n\u001b[1;32m    881\u001b[0m         \u001b[38;5;66;03m# Binary mode\u001b[39;00m\n\u001b[1;32m    882\u001b[0m         handle \u001b[38;5;241m=\u001b[39m \u001b[38;5;28mopen\u001b[39m(handle, ioargs\u001b[38;5;241m.\u001b[39mmode)\n",
      "\u001b[0;31mFileNotFoundError\u001b[0m: [Errno 2] No such file or directory: '/Users/gheiss/workspaces/jupyter/embedding/../precitooldata/zds_latest/zds_categories_with_path_06.csv'"
     ]
    }
   ],
   "source": [
    "zds_latest_06 = Embedding().from_csv(\"../precitooldata/zds_latest/zds_categories_with_path_06.csv\", column='categoryPathShort').store()\n",
    "broken_cats = Embedding().from_xls(\"../precitooldata/EDEfalscheKategorien.xlsx\", sheet=\"finalV2\", column=\"ede\").store()\n",
    "\n",
    "#broken_cats = Embedding().load(\"../precitooldata/EDEfalscheKategorien.xlsx\")\n",
    "#Embedding.match_embeddings(broken_cats, zds_latest_06)"
   ]
  },
  {
   "cell_type": "code",
   "execution_count": null,
   "id": "d19b6b72",
   "metadata": {},
   "outputs": [],
   "source": [
    "\n",
    "target_cats = Embedding().load(\"../precitooldata/zds_latest/zds_categories_with_path_06.csv\")\n",
    "#target_cats = Embedding().load(\"../precitooldata/zds_latest/zds_categories_with_path.csv\", contains=\"69_Betriebseinrichtung\")\n",
    "#Embedding.match_embeddings(broken_cats, target_cats)"
   ]
  },
  {
   "cell_type": "code",
   "execution_count": 6,
   "id": "0d59f733",
   "metadata": {},
   "outputs": [
    {
     "name": "stdout",
     "output_type": "stream",
     "text": [
      "1 / 1 (100%)\n",
      "Nuber of tokens: 6\n",
      "Created 2 embeddings.\n"
     ]
    }
   ],
   "source": [
    "bla = Embedding(model=\"text-embedding-3-large\").from_array([\"maus\", \"haus\", \"laus\", \"ratte\"], nsamples=0, contains=\"asda\")\n",
    "blub = Embedding(model=\"text-embedding-3-large\").from_array([\"nagetier\", \"wohnzimmer\"])\n",
    "Embedding.similarity_matrix(bla, blub)"
   ]
  },
  {
   "cell_type": "code",
   "execution_count": null,
   "id": "09ad20c8",
   "metadata": {},
   "outputs": [],
   "source": [
    "target_colors = Embedding(model=\"text-embedding-3-large\").from_csv(\"embedding/targetcolors.csv\", nsamples=0).store()\n",
    "test_colors = Embedding(model=\"text-embedding-3-large\").from_csv(\"embedding/testcolors.csv\", column=\"search\", nsamples=0).store()\n",
    "\n",
    "target = Embedding().load(\"embedding/targetcolors.csv\")\n",
    "test = Embedding().load(\"embedding/testcolors.csv\")\n",
    "\n",
    "Embedding.match_embeddings(test, target)\n",
    "Embedding.similarity_matrix(test, target)"
   ]
  }
 ],
 "metadata": {
  "kernelspec": {
   "display_name": "Python 3 (ipykernel)",
   "language": "python",
   "name": "python3"
  }
 },
 "nbformat": 4,
 "nbformat_minor": 5
}
