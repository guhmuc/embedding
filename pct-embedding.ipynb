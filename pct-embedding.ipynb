{
 "cells": [
  {
   "cell_type": "code",
   "execution_count": null,
   "metadata": {},
   "outputs": [
    {
     "name": "stdout",
     "output_type": "stream",
     "text": [
      "1 / 1 (100%)\n",
      "Number of tokens: 6\n",
      "Created 2 embeddings.\n",
      "       nagetier  wohnzimmer\n",
      "maus   0.448430    0.266825\n",
      "haus   0.263521    0.401376\n",
      "laus   0.143512    0.176229\n",
      "ratte  0.635848    0.324970\n"
     ]
    }
   ],
   "source": [
    "import import_ipynb\n",
    "from embedding import Embedding\n",
    "\n",
    "#zds_latest_06 = Embedding().from_csv(\"../precitooldata/zds_latest/zds_categories_with_path_06.csv\", column='categoryPathShort').store()\n",
    "#broken_cats = Embedding().from_xls(\"../precitooldata/EDEfalscheKategorien.xlsx\", sheet=\"finalV2\", column=\"ede\").store()\n",
    "\n",
    "#broken_cats = Embedding().load(\"../precitooldata/EDEfalscheKategorien.xlsx\")\n",
    "#Embedding.match_embeddings(broken_cats, zds_latest_06)\n",
    "\n",
    "\n",
    "#target_cats = Embedding().load(\"../precitooldata/zds_latest/zds_categories_with_path_06.csv\")\n",
    "#target_cats = Embedding().load(\"../precitooldata/zds_latest/zds_categories_with_path.csv\", contains=\"69_Betriebseinrichtung\")\n",
    "#Embedding.match_embeddings(broken_cats, target_cats)"
   ]
  }
 ],
 "metadata": {
  "kernelspec": {
   "display_name": "Python 3 (ipykernel)",
   "language": "python",
   "name": "python3"
  },
  "language_info": {
   "codemirror_mode": {
    "name": "ipython",
    "version": 3
   },
   "file_extension": ".py",
   "mimetype": "text/x-python",
   "name": "python",
   "nbconvert_exporter": "python",
   "pygments_lexer": "ipython3",
   "version": "3.11.6"
  }
 },
 "nbformat": 4,
 "nbformat_minor": 2
}
